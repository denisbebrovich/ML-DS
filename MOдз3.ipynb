{
  "cells": [
    {
      "cell_type": "markdown",
      "metadata": {
        "id": "view-in-github",
        "colab_type": "text"
      },
      "source": [
        "<a href=\"https://colab.research.google.com/github/denisbebrovich/ML-DS/blob/main/MO%D0%B4%D0%B73.ipynb\" target=\"_parent\"><img src=\"https://colab.research.google.com/assets/colab-badge.svg\" alt=\"Open In Colab\"/></a>"
      ]
    },
    {
      "cell_type": "markdown",
      "metadata": {
        "id": "NuWSzW1enKMh"
      },
      "source": [
        "Предварительная обработка данных, EDA и прочее представлено в ноутбуке [МОдз1](https://colab.research.google.com/drive/1w9Er_B6u6Wt-PEptbl9mZ-27SWZ17csi?usp=sharing#scrollTo=ai9xNAitLRUW)\n",
        "\n",
        "\n",
        "---\n",
        "\n",
        "\n",
        "Напомню, что в датасете указана информация об удовлетворенностью своей работой жителей США по критериям и итоговая оценка от 1 до 5, которая является тагретной переменной\n"
      ]
    },
    {
      "cell_type": "markdown",
      "metadata": {
        "id": "WqE1DsYHy_tn"
      },
      "source": [
        "#импорт библиотек"
      ]
    },
    {
      "cell_type": "code",
      "execution_count": null,
      "metadata": {
        "colab": {
          "base_uri": "https://localhost:8080/"
        },
        "id": "r5sPjkksmPZI",
        "outputId": "33a4838c-8d58-43dc-9d59-0042d2043995"
      },
      "outputs": [
        {
          "name": "stdout",
          "output_type": "stream",
          "text": [
            "Drive already mounted at /content/drive; to attempt to forcibly remount, call drive.mount(\"/content/drive\", force_remount=True).\n"
          ]
        }
      ],
      "source": [
        "import pandas as pd\n",
        "import numpy as np\n",
        "from google.colab import drive\n",
        "from sklearn.metrics import accuracy_score, precision_score, recall_score\n",
        "drive.mount('/content/drive')"
      ]
    },
    {
      "cell_type": "markdown",
      "metadata": {
        "id": "9Sm3Xjx1zAlt"
      },
      "source": [
        "# открываем файл"
      ]
    },
    {
      "cell_type": "code",
      "execution_count": null,
      "metadata": {
        "colab": {
          "base_uri": "https://localhost:8080/",
          "height": 423
        },
        "id": "lbc8vHR2zA8g",
        "outputId": "871086b6-74b4-4c5a-b919-defed249c1fe"
      },
      "outputs": [
        {
          "data": {
            "application/vnd.google.colaboratory.intrinsic+json": {
              "summary": "{\n  \"name\": \"df\",\n  \"rows\": 78152,\n  \"fields\": [\n    {\n      \"column\": \"work_life_balance\",\n      \"properties\": {\n        \"dtype\": \"number\",\n        \"std\": 1.0000063978502267,\n        \"min\": -1.7653279473960963,\n        \"max\": 1.248748890341958,\n        \"num_unique_values\": 5,\n        \"samples\": [\n          -0.4353971402748494,\n          1.248748890341958,\n          -1.7653279473960963\n        ],\n        \"semantic_type\": \"\",\n        \"description\": \"\"\n      }\n    },\n    {\n      \"column\": \"culture_values\",\n      \"properties\": {\n        \"dtype\": \"number\",\n        \"std\": 1.000006397850261,\n        \"min\": -1.7578178161157698,\n        \"max\": 1.0978161819255898,\n        \"num_unique_values\": 5,\n        \"samples\": [\n          -1.7578178161157698,\n          0.1896241413966178,\n          -1.2607045586310437\n        ],\n        \"semantic_type\": \"\",\n        \"description\": \"\"\n      }\n    },\n    {\n      \"column\": \"career_opp\",\n      \"properties\": {\n        \"dtype\": \"number\",\n        \"std\": 1.0000063978507925,\n        \"min\": -1.737748028595893,\n        \"max\": 1.3039916114985075,\n        \"num_unique_values\": 5,\n        \"samples\": [\n          -1.737748028595893,\n          -0.3156103183231791,\n          1.3039916114985075\n        ],\n        \"semantic_type\": \"\",\n        \"description\": \"\"\n      }\n    },\n    {\n      \"column\": \"comp_benefits\",\n      \"properties\": {\n        \"dtype\": \"number\",\n        \"std\": 1.0000063978502647,\n        \"min\": -1.8766471025695477,\n        \"max\": 1.2676576235571997,\n        \"num_unique_values\": 5,\n        \"samples\": [\n          -1.8766471025695477,\n          1.2676576235571997,\n          -1.2878627775840363\n        ],\n        \"semantic_type\": \"\",\n        \"description\": \"\"\n      }\n    },\n    {\n      \"column\": \"senior_mgmt\",\n      \"properties\": {\n        \"dtype\": \"number\",\n        \"std\": 1.0000063978503255,\n        \"min\": -1.601212499451269,\n        \"max\": 1.332814560897715,\n        \"num_unique_values\": 5,\n        \"samples\": [\n          0.5993237777579881,\n          1.332814560897715,\n          -1.601212499451269\n        ],\n        \"semantic_type\": \"\",\n        \"description\": \"\"\n      }\n    },\n    {\n      \"column\": \"recommend\",\n      \"properties\": {\n        \"dtype\": \"number\",\n        \"std\": 1.0000063978500642,\n        \"min\": -1.6313009967760843,\n        \"max\": 0.7628721203088216,\n        \"num_unique_values\": 3,\n        \"samples\": [\n          -1.1260008451646828,\n          -1.6313009967760843,\n          0.7628721203088216\n        ],\n        \"semantic_type\": \"\",\n        \"description\": \"\"\n      }\n    },\n    {\n      \"column\": \"ceo_approv\",\n      \"properties\": {\n        \"dtype\": \"number\",\n        \"std\": 1.0000063978504297,\n        \"min\": -1.5236311662355788,\n        \"max\": 0.9508981694722262,\n        \"num_unique_values\": 4,\n        \"samples\": [\n          -0.0368086989131396,\n          0.9508981694722262,\n          -1.5236311662355788\n        ],\n        \"semantic_type\": \"\",\n        \"description\": \"\"\n      }\n    },\n    {\n      \"column\": \"outlook\",\n      \"properties\": {\n        \"dtype\": \"number\",\n        \"std\": 1.0000063978504377,\n        \"min\": -1.653750548647108,\n        \"max\": 0.9379142014457554,\n        \"num_unique_values\": 4,\n        \"samples\": [\n          -1.0541299321148014,\n          -1.653750548647108,\n          -0.1804887781468657\n        ],\n        \"semantic_type\": \"\",\n        \"description\": \"\"\n      }\n    },\n    {\n      \"column\": \"day\",\n      \"properties\": {\n        \"dtype\": \"number\",\n        \"std\": 1.0000063978503682,\n        \"min\": -1.964998549135481,\n        \"max\": 1.611958832322435,\n        \"num_unique_values\": 31,\n        \"samples\": [\n          -0.0889017256083824,\n          1.2425788212636908,\n          0.2416201974589976\n        ],\n        \"semantic_type\": \"\",\n        \"description\": \"\"\n      }\n    },\n    {\n      \"column\": \"month\",\n      \"properties\": {\n        \"dtype\": \"number\",\n        \"std\": 1.0000063978503244,\n        \"min\": -1.7028639081443138,\n        \"max\": 1.510098841115424,\n        \"num_unique_values\": 12,\n        \"samples\": [\n          0.6076660653455863,\n          0.3561206903095467,\n          -0.5009950613587114\n        ],\n        \"semantic_type\": \"\",\n        \"description\": \"\"\n      }\n    },\n    {\n      \"column\": \"year\",\n      \"properties\": {\n        \"dtype\": \"number\",\n        \"std\": 1.000006397850446,\n        \"min\": -2.117744237184107,\n        \"max\": 1.398165190387413,\n        \"num_unique_values\": 10,\n        \"samples\": [\n          -2.117744237184107,\n          -0.7426514513326418,\n          0.9449224830122072\n        ],\n        \"semantic_type\": \"\",\n        \"description\": \"\"\n      }\n    },\n    {\n      \"column\": \"overall\",\n      \"properties\": {\n        \"dtype\": \"number\",\n        \"std\": 1,\n        \"min\": 1,\n        \"max\": 5,\n        \"num_unique_values\": 5,\n        \"samples\": [\n          1,\n          4,\n          5\n        ],\n        \"semantic_type\": \"\",\n        \"description\": \"\"\n      }\n    }\n  ]\n}",
              "type": "dataframe",
              "variable_name": "df"
            },
            "text/html": [
              "\n",
              "  <div id=\"df-72df4808-f0c2-4abd-a9e5-4beb40105bcf\" class=\"colab-df-container\">\n",
              "    <div>\n",
              "<style scoped>\n",
              "    .dataframe tbody tr th:only-of-type {\n",
              "        vertical-align: middle;\n",
              "    }\n",
              "\n",
              "    .dataframe tbody tr th {\n",
              "        vertical-align: top;\n",
              "    }\n",
              "\n",
              "    .dataframe thead th {\n",
              "        text-align: right;\n",
              "    }\n",
              "</style>\n",
              "<table border=\"1\" class=\"dataframe\">\n",
              "  <thead>\n",
              "    <tr style=\"text-align: right;\">\n",
              "      <th></th>\n",
              "      <th>work_life_balance</th>\n",
              "      <th>culture_values</th>\n",
              "      <th>career_opp</th>\n",
              "      <th>comp_benefits</th>\n",
              "      <th>senior_mgmt</th>\n",
              "      <th>recommend</th>\n",
              "      <th>ceo_approv</th>\n",
              "      <th>outlook</th>\n",
              "      <th>day</th>\n",
              "      <th>month</th>\n",
              "      <th>year</th>\n",
              "      <th>overall</th>\n",
              "    </tr>\n",
              "  </thead>\n",
              "  <tbody>\n",
              "    <tr>\n",
              "      <th>0</th>\n",
              "      <td>0.371667</td>\n",
              "      <td>-0.602106</td>\n",
              "      <td>-1.060046</td>\n",
              "      <td>-0.548583</td>\n",
              "      <td>-0.134175</td>\n",
              "      <td>-1.126001</td>\n",
              "      <td>-1.523631</td>\n",
              "      <td>-0.180489</td>\n",
              "      <td>-1.243051</td>\n",
              "      <td>-0.500995</td>\n",
              "      <td>-1.125080</td>\n",
              "      <td>2</td>\n",
              "    </tr>\n",
              "    <tr>\n",
              "      <th>1</th>\n",
              "      <td>-0.435397</td>\n",
              "      <td>-1.757818</td>\n",
              "      <td>-1.060046</td>\n",
              "      <td>-1.876647</td>\n",
              "      <td>0.599324</td>\n",
              "      <td>-1.126001</td>\n",
              "      <td>-1.523631</td>\n",
              "      <td>-0.180489</td>\n",
              "      <td>-0.440152</td>\n",
              "      <td>1.510099</td>\n",
              "      <td>-1.125080</td>\n",
              "      <td>2</td>\n",
              "    </tr>\n",
              "    <tr>\n",
              "      <th>2</th>\n",
              "      <td>-1.765328</td>\n",
              "      <td>-1.757818</td>\n",
              "      <td>-1.737748</td>\n",
              "      <td>-1.876647</td>\n",
              "      <td>-1.601212</td>\n",
              "      <td>-1.126001</td>\n",
              "      <td>-1.523631</td>\n",
              "      <td>-1.054130</td>\n",
              "      <td>1.336289</td>\n",
              "      <td>-1.702864</td>\n",
              "      <td>-0.742651</td>\n",
              "      <td>1</td>\n",
              "    </tr>\n",
              "    <tr>\n",
              "      <th>3</th>\n",
              "      <td>-1.157151</td>\n",
              "      <td>-0.602106</td>\n",
              "      <td>-1.060046</td>\n",
              "      <td>-1.287863</td>\n",
              "      <td>-0.134175</td>\n",
              "      <td>-1.126001</td>\n",
              "      <td>-1.523631</td>\n",
              "      <td>-0.180489</td>\n",
              "      <td>0.133422</td>\n",
              "      <td>-0.500995</td>\n",
              "      <td>-0.742651</td>\n",
              "      <td>5</td>\n",
              "    </tr>\n",
              "    <tr>\n",
              "      <th>4</th>\n",
              "      <td>-1.157151</td>\n",
              "      <td>-1.757818</td>\n",
              "      <td>-1.060046</td>\n",
              "      <td>-1.876647</td>\n",
              "      <td>-1.601212</td>\n",
              "      <td>-1.126001</td>\n",
              "      <td>-1.523631</td>\n",
              "      <td>-1.054130</td>\n",
              "      <td>0.857410</td>\n",
              "      <td>-0.500995</td>\n",
              "      <td>-0.742651</td>\n",
              "      <td>1</td>\n",
              "    </tr>\n",
              "    <tr>\n",
              "      <th>...</th>\n",
              "      <td>...</td>\n",
              "      <td>...</td>\n",
              "      <td>...</td>\n",
              "      <td>...</td>\n",
              "      <td>...</td>\n",
              "      <td>...</td>\n",
              "      <td>...</td>\n",
              "      <td>...</td>\n",
              "      <td>...</td>\n",
              "      <td>...</td>\n",
              "      <td>...</td>\n",
              "      <td>...</td>\n",
              "    </tr>\n",
              "    <tr>\n",
              "      <th>78147</th>\n",
              "      <td>0.371667</td>\n",
              "      <td>1.097816</td>\n",
              "      <td>-0.315610</td>\n",
              "      <td>-0.548583</td>\n",
              "      <td>-0.134175</td>\n",
              "      <td>0.762872</td>\n",
              "      <td>0.950898</td>\n",
              "      <td>-0.180489</td>\n",
              "      <td>-1.566673</td>\n",
              "      <td>-0.193836</td>\n",
              "      <td>-1.820608</td>\n",
              "      <td>4</td>\n",
              "    </tr>\n",
              "    <tr>\n",
              "      <th>78148</th>\n",
              "      <td>1.248749</td>\n",
              "      <td>0.189624</td>\n",
              "      <td>-1.060046</td>\n",
              "      <td>0.309266</td>\n",
              "      <td>-0.867685</td>\n",
              "      <td>-1.126001</td>\n",
              "      <td>-0.036809</td>\n",
              "      <td>-0.180489</td>\n",
              "      <td>-1.399104</td>\n",
              "      <td>-0.193836</td>\n",
              "      <td>-1.820608</td>\n",
              "      <td>2</td>\n",
              "    </tr>\n",
              "    <tr>\n",
              "      <th>78149</th>\n",
              "      <td>-0.435397</td>\n",
              "      <td>-1.260705</td>\n",
              "      <td>0.475768</td>\n",
              "      <td>0.309266</td>\n",
              "      <td>-0.134175</td>\n",
              "      <td>-1.126001</td>\n",
              "      <td>0.950898</td>\n",
              "      <td>-0.180489</td>\n",
              "      <td>-1.399104</td>\n",
              "      <td>-0.193836</td>\n",
              "      <td>-1.820608</td>\n",
              "      <td>3</td>\n",
              "    </tr>\n",
              "    <tr>\n",
              "      <th>78150</th>\n",
              "      <td>-0.435397</td>\n",
              "      <td>0.189624</td>\n",
              "      <td>-0.315610</td>\n",
              "      <td>0.309266</td>\n",
              "      <td>0.599324</td>\n",
              "      <td>0.762872</td>\n",
              "      <td>0.950898</td>\n",
              "      <td>-0.180489</td>\n",
              "      <td>-1.243051</td>\n",
              "      <td>-0.193836</td>\n",
              "      <td>-1.820608</td>\n",
              "      <td>4</td>\n",
              "    </tr>\n",
              "    <tr>\n",
              "      <th>78151</th>\n",
              "      <td>-0.435397</td>\n",
              "      <td>0.189624</td>\n",
              "      <td>0.475768</td>\n",
              "      <td>-0.548583</td>\n",
              "      <td>-0.134175</td>\n",
              "      <td>0.762872</td>\n",
              "      <td>0.950898</td>\n",
              "      <td>-0.180489</td>\n",
              "      <td>-1.095600</td>\n",
              "      <td>-0.193836</td>\n",
              "      <td>-1.820608</td>\n",
              "      <td>4</td>\n",
              "    </tr>\n",
              "  </tbody>\n",
              "</table>\n",
              "<p>78152 rows × 12 columns</p>\n",
              "</div>\n",
              "    <div class=\"colab-df-buttons\">\n",
              "\n",
              "  <div class=\"colab-df-container\">\n",
              "    <button class=\"colab-df-convert\" onclick=\"convertToInteractive('df-72df4808-f0c2-4abd-a9e5-4beb40105bcf')\"\n",
              "            title=\"Convert this dataframe to an interactive table.\"\n",
              "            style=\"display:none;\">\n",
              "\n",
              "  <svg xmlns=\"http://www.w3.org/2000/svg\" height=\"24px\" viewBox=\"0 -960 960 960\">\n",
              "    <path d=\"M120-120v-720h720v720H120Zm60-500h600v-160H180v160Zm220 220h160v-160H400v160Zm0 220h160v-160H400v160ZM180-400h160v-160H180v160Zm440 0h160v-160H620v160ZM180-180h160v-160H180v160Zm440 0h160v-160H620v160Z\"/>\n",
              "  </svg>\n",
              "    </button>\n",
              "\n",
              "  <style>\n",
              "    .colab-df-container {\n",
              "      display:flex;\n",
              "      gap: 12px;\n",
              "    }\n",
              "\n",
              "    .colab-df-convert {\n",
              "      background-color: #E8F0FE;\n",
              "      border: none;\n",
              "      border-radius: 50%;\n",
              "      cursor: pointer;\n",
              "      display: none;\n",
              "      fill: #1967D2;\n",
              "      height: 32px;\n",
              "      padding: 0 0 0 0;\n",
              "      width: 32px;\n",
              "    }\n",
              "\n",
              "    .colab-df-convert:hover {\n",
              "      background-color: #E2EBFA;\n",
              "      box-shadow: 0px 1px 2px rgba(60, 64, 67, 0.3), 0px 1px 3px 1px rgba(60, 64, 67, 0.15);\n",
              "      fill: #174EA6;\n",
              "    }\n",
              "\n",
              "    .colab-df-buttons div {\n",
              "      margin-bottom: 4px;\n",
              "    }\n",
              "\n",
              "    [theme=dark] .colab-df-convert {\n",
              "      background-color: #3B4455;\n",
              "      fill: #D2E3FC;\n",
              "    }\n",
              "\n",
              "    [theme=dark] .colab-df-convert:hover {\n",
              "      background-color: #434B5C;\n",
              "      box-shadow: 0px 1px 3px 1px rgba(0, 0, 0, 0.15);\n",
              "      filter: drop-shadow(0px 1px 2px rgba(0, 0, 0, 0.3));\n",
              "      fill: #FFFFFF;\n",
              "    }\n",
              "  </style>\n",
              "\n",
              "    <script>\n",
              "      const buttonEl =\n",
              "        document.querySelector('#df-72df4808-f0c2-4abd-a9e5-4beb40105bcf button.colab-df-convert');\n",
              "      buttonEl.style.display =\n",
              "        google.colab.kernel.accessAllowed ? 'block' : 'none';\n",
              "\n",
              "      async function convertToInteractive(key) {\n",
              "        const element = document.querySelector('#df-72df4808-f0c2-4abd-a9e5-4beb40105bcf');\n",
              "        const dataTable =\n",
              "          await google.colab.kernel.invokeFunction('convertToInteractive',\n",
              "                                                    [key], {});\n",
              "        if (!dataTable) return;\n",
              "\n",
              "        const docLinkHtml = 'Like what you see? Visit the ' +\n",
              "          '<a target=\"_blank\" href=https://colab.research.google.com/notebooks/data_table.ipynb>data table notebook</a>'\n",
              "          + ' to learn more about interactive tables.';\n",
              "        element.innerHTML = '';\n",
              "        dataTable['output_type'] = 'display_data';\n",
              "        await google.colab.output.renderOutput(dataTable, element);\n",
              "        const docLink = document.createElement('div');\n",
              "        docLink.innerHTML = docLinkHtml;\n",
              "        element.appendChild(docLink);\n",
              "      }\n",
              "    </script>\n",
              "  </div>\n",
              "\n",
              "\n",
              "<div id=\"df-9ca5d437-aef9-4662-aafc-16d539928cb9\">\n",
              "  <button class=\"colab-df-quickchart\" onclick=\"quickchart('df-9ca5d437-aef9-4662-aafc-16d539928cb9')\"\n",
              "            title=\"Suggest charts\"\n",
              "            style=\"display:none;\">\n",
              "\n",
              "<svg xmlns=\"http://www.w3.org/2000/svg\" height=\"24px\"viewBox=\"0 0 24 24\"\n",
              "     width=\"24px\">\n",
              "    <g>\n",
              "        <path d=\"M19 3H5c-1.1 0-2 .9-2 2v14c0 1.1.9 2 2 2h14c1.1 0 2-.9 2-2V5c0-1.1-.9-2-2-2zM9 17H7v-7h2v7zm4 0h-2V7h2v10zm4 0h-2v-4h2v4z\"/>\n",
              "    </g>\n",
              "</svg>\n",
              "  </button>\n",
              "\n",
              "<style>\n",
              "  .colab-df-quickchart {\n",
              "      --bg-color: #E8F0FE;\n",
              "      --fill-color: #1967D2;\n",
              "      --hover-bg-color: #E2EBFA;\n",
              "      --hover-fill-color: #174EA6;\n",
              "      --disabled-fill-color: #AAA;\n",
              "      --disabled-bg-color: #DDD;\n",
              "  }\n",
              "\n",
              "  [theme=dark] .colab-df-quickchart {\n",
              "      --bg-color: #3B4455;\n",
              "      --fill-color: #D2E3FC;\n",
              "      --hover-bg-color: #434B5C;\n",
              "      --hover-fill-color: #FFFFFF;\n",
              "      --disabled-bg-color: #3B4455;\n",
              "      --disabled-fill-color: #666;\n",
              "  }\n",
              "\n",
              "  .colab-df-quickchart {\n",
              "    background-color: var(--bg-color);\n",
              "    border: none;\n",
              "    border-radius: 50%;\n",
              "    cursor: pointer;\n",
              "    display: none;\n",
              "    fill: var(--fill-color);\n",
              "    height: 32px;\n",
              "    padding: 0;\n",
              "    width: 32px;\n",
              "  }\n",
              "\n",
              "  .colab-df-quickchart:hover {\n",
              "    background-color: var(--hover-bg-color);\n",
              "    box-shadow: 0 1px 2px rgba(60, 64, 67, 0.3), 0 1px 3px 1px rgba(60, 64, 67, 0.15);\n",
              "    fill: var(--button-hover-fill-color);\n",
              "  }\n",
              "\n",
              "  .colab-df-quickchart-complete:disabled,\n",
              "  .colab-df-quickchart-complete:disabled:hover {\n",
              "    background-color: var(--disabled-bg-color);\n",
              "    fill: var(--disabled-fill-color);\n",
              "    box-shadow: none;\n",
              "  }\n",
              "\n",
              "  .colab-df-spinner {\n",
              "    border: 2px solid var(--fill-color);\n",
              "    border-color: transparent;\n",
              "    border-bottom-color: var(--fill-color);\n",
              "    animation:\n",
              "      spin 1s steps(1) infinite;\n",
              "  }\n",
              "\n",
              "  @keyframes spin {\n",
              "    0% {\n",
              "      border-color: transparent;\n",
              "      border-bottom-color: var(--fill-color);\n",
              "      border-left-color: var(--fill-color);\n",
              "    }\n",
              "    20% {\n",
              "      border-color: transparent;\n",
              "      border-left-color: var(--fill-color);\n",
              "      border-top-color: var(--fill-color);\n",
              "    }\n",
              "    30% {\n",
              "      border-color: transparent;\n",
              "      border-left-color: var(--fill-color);\n",
              "      border-top-color: var(--fill-color);\n",
              "      border-right-color: var(--fill-color);\n",
              "    }\n",
              "    40% {\n",
              "      border-color: transparent;\n",
              "      border-right-color: var(--fill-color);\n",
              "      border-top-color: var(--fill-color);\n",
              "    }\n",
              "    60% {\n",
              "      border-color: transparent;\n",
              "      border-right-color: var(--fill-color);\n",
              "    }\n",
              "    80% {\n",
              "      border-color: transparent;\n",
              "      border-right-color: var(--fill-color);\n",
              "      border-bottom-color: var(--fill-color);\n",
              "    }\n",
              "    90% {\n",
              "      border-color: transparent;\n",
              "      border-bottom-color: var(--fill-color);\n",
              "    }\n",
              "  }\n",
              "</style>\n",
              "\n",
              "  <script>\n",
              "    async function quickchart(key) {\n",
              "      const quickchartButtonEl =\n",
              "        document.querySelector('#' + key + ' button');\n",
              "      quickchartButtonEl.disabled = true;  // To prevent multiple clicks.\n",
              "      quickchartButtonEl.classList.add('colab-df-spinner');\n",
              "      try {\n",
              "        const charts = await google.colab.kernel.invokeFunction(\n",
              "            'suggestCharts', [key], {});\n",
              "      } catch (error) {\n",
              "        console.error('Error during call to suggestCharts:', error);\n",
              "      }\n",
              "      quickchartButtonEl.classList.remove('colab-df-spinner');\n",
              "      quickchartButtonEl.classList.add('colab-df-quickchart-complete');\n",
              "    }\n",
              "    (() => {\n",
              "      let quickchartButtonEl =\n",
              "        document.querySelector('#df-9ca5d437-aef9-4662-aafc-16d539928cb9 button');\n",
              "      quickchartButtonEl.style.display =\n",
              "        google.colab.kernel.accessAllowed ? 'block' : 'none';\n",
              "    })();\n",
              "  </script>\n",
              "</div>\n",
              "    </div>\n",
              "  </div>\n"
            ],
            "text/plain": [
              "       work_life_balance  culture_values  career_opp  comp_benefits  \\\n",
              "0               0.371667       -0.602106   -1.060046      -0.548583   \n",
              "1              -0.435397       -1.757818   -1.060046      -1.876647   \n",
              "2              -1.765328       -1.757818   -1.737748      -1.876647   \n",
              "3              -1.157151       -0.602106   -1.060046      -1.287863   \n",
              "4              -1.157151       -1.757818   -1.060046      -1.876647   \n",
              "...                  ...             ...         ...            ...   \n",
              "78147           0.371667        1.097816   -0.315610      -0.548583   \n",
              "78148           1.248749        0.189624   -1.060046       0.309266   \n",
              "78149          -0.435397       -1.260705    0.475768       0.309266   \n",
              "78150          -0.435397        0.189624   -0.315610       0.309266   \n",
              "78151          -0.435397        0.189624    0.475768      -0.548583   \n",
              "\n",
              "       senior_mgmt  recommend  ceo_approv   outlook       day     month  \\\n",
              "0        -0.134175  -1.126001   -1.523631 -0.180489 -1.243051 -0.500995   \n",
              "1         0.599324  -1.126001   -1.523631 -0.180489 -0.440152  1.510099   \n",
              "2        -1.601212  -1.126001   -1.523631 -1.054130  1.336289 -1.702864   \n",
              "3        -0.134175  -1.126001   -1.523631 -0.180489  0.133422 -0.500995   \n",
              "4        -1.601212  -1.126001   -1.523631 -1.054130  0.857410 -0.500995   \n",
              "...            ...        ...         ...       ...       ...       ...   \n",
              "78147    -0.134175   0.762872    0.950898 -0.180489 -1.566673 -0.193836   \n",
              "78148    -0.867685  -1.126001   -0.036809 -0.180489 -1.399104 -0.193836   \n",
              "78149    -0.134175  -1.126001    0.950898 -0.180489 -1.399104 -0.193836   \n",
              "78150     0.599324   0.762872    0.950898 -0.180489 -1.243051 -0.193836   \n",
              "78151    -0.134175   0.762872    0.950898 -0.180489 -1.095600 -0.193836   \n",
              "\n",
              "           year  overall  \n",
              "0     -1.125080        2  \n",
              "1     -1.125080        2  \n",
              "2     -0.742651        1  \n",
              "3     -0.742651        5  \n",
              "4     -0.742651        1  \n",
              "...         ...      ...  \n",
              "78147 -1.820608        4  \n",
              "78148 -1.820608        2  \n",
              "78149 -1.820608        3  \n",
              "78150 -1.820608        4  \n",
              "78151 -1.820608        4  \n",
              "\n",
              "[78152 rows x 12 columns]"
            ]
          },
          "execution_count": 112,
          "metadata": {},
          "output_type": "execute_result"
        }
      ],
      "source": [
        "df = pd.read_csv('/content/drive/MyDrive/ML/glassdor_norm.csv', delimiter = ',')\n",
        "df"
      ]
    },
    {
      "cell_type": "markdown",
      "metadata": {
        "id": "efLv6wD50tXE"
      },
      "source": [
        "# модель"
      ]
    },
    {
      "cell_type": "code",
      "execution_count": null,
      "metadata": {
        "id": "ekQIdthZz5ab"
      },
      "outputs": [],
      "source": [
        "from sklearn.linear_model import LogisticRegression\n",
        "from sklearn.model_selection import train_test_split"
      ]
    },
    {
      "cell_type": "code",
      "execution_count": null,
      "metadata": {
        "colab": {
          "base_uri": "https://localhost:8080/"
        },
        "id": "TKMhonjl8WxK",
        "outputId": "51e60bf7-1547-406f-f30e-9c2734d39ffe"
      },
      "outputs": [
        {
          "data": {
            "text/plain": [
              "(       work_life_balance  culture_values  career_opp  comp_benefits  \\\n",
              " 76545          -1.765328       -0.602106    0.475768       0.309266   \n",
              " 74631          -0.435397        1.097816   -0.315610      -1.287863   \n",
              " 32156          -0.435397        1.097816   -0.315610       1.267658   \n",
              " 35066           1.248749        0.189624    1.303992       1.267658   \n",
              " 53409          -0.435397        0.189624   -0.315610      -0.548583   \n",
              " ...                  ...             ...         ...            ...   \n",
              " 6265           -1.157151       -0.602106    0.475768      -1.287863   \n",
              " 54886           1.248749        1.097816    0.475768      -0.548583   \n",
              " 76820          -1.765328       -0.602106   -1.060046      -0.548583   \n",
              " 860             0.371667       -1.260705   -1.737748      -1.876647   \n",
              " 15795           0.371667        0.189624    1.303992       0.309266   \n",
              " \n",
              "        senior_mgmt  recommend  ceo_approv   outlook       day     month  \\\n",
              " 76545    -1.601212  -1.126001   -0.873816 -1.054130  0.133422 -0.500995   \n",
              " 74631    -1.601212  -1.631301   -1.523631 -1.653751  1.242579  1.297192   \n",
              " 32156     0.599324   0.762872    0.950898  0.937914  1.429062  1.297192   \n",
              " 35066     0.599324   0.762872   -1.523631 -1.653751  0.452810  0.607666   \n",
              " 53409    -0.134175   0.762872   -0.036809  0.937914 -0.954939 -1.227191   \n",
              " ...            ...        ...         ...       ...       ...       ...   \n",
              " 6265     -0.134175  -1.631301   -1.523631 -0.180489  0.955358  0.847218   \n",
              " 54886    -0.134175   0.762872    0.950898  0.937914 -0.954939  0.356121   \n",
              " 76820     0.599324  -1.126001   -0.036809 -0.180489  0.452810  0.607666   \n",
              " 860      -0.134175  -1.126001   -0.036809 -1.054130  0.758256 -0.840000   \n",
              " 15795     0.599324  -1.631301   -1.523631 -1.653751  0.955358  0.607666   \n",
              " \n",
              "            year  \n",
              " 76545  1.398165  \n",
              " 74631 -0.342353  \n",
              " 32156  0.073445  \n",
              " 35066  0.944922  \n",
              " 53409 -0.342353  \n",
              " ...         ...  \n",
              " 6265  -0.742651  \n",
              " 54886  0.502988  \n",
              " 76820 -1.125080  \n",
              " 860    1.398165  \n",
              " 15795  0.502988  \n",
              " \n",
              " [62521 rows x 11 columns],\n",
              "        work_life_balance  culture_values  career_opp  comp_benefits  \\\n",
              " 72332          -1.157151       -1.260705   -0.315610      -1.287863   \n",
              " 45787           0.371667        0.189624    1.303992      -1.287863   \n",
              " 37127           1.248749        0.189624    1.303992       1.267658   \n",
              " 45672           1.248749        1.097816    1.303992      -0.548583   \n",
              " 9451           -1.157151       -0.602106   -1.060046      -0.548583   \n",
              " ...                  ...             ...         ...            ...   \n",
              " 54998           1.248749        1.097816    1.303992       1.267658   \n",
              " 54372           0.371667       -0.602106   -0.315610       0.309266   \n",
              " 40861           1.248749        0.189624    0.475768       0.309266   \n",
              " 33767           1.248749        1.097816    1.303992       1.267658   \n",
              " 77969          -0.435397       -1.260705   -1.060046      -0.548583   \n",
              " \n",
              "        senior_mgmt  recommend  ceo_approv   outlook       day     month  \\\n",
              " 72332    -0.867685   0.762872   -0.036809 -0.180489 -0.819841  0.356121   \n",
              " 45787    -0.134175   0.762872    0.950898 -0.180489 -1.399104  1.510099   \n",
              " 37127     1.332815   0.762872    0.950898  0.937914  0.023304 -0.840000   \n",
              " 45672     0.599324   0.762872    0.950898  0.937914 -1.243051 -1.227191   \n",
              " 9451     -1.601212  -1.126001    0.950898 -1.054130 -0.088902 -0.193836   \n",
              " ...            ...        ...         ...       ...       ...       ...   \n",
              " 54998     1.332815   0.762872    0.950898  0.937914  1.336289  0.607666   \n",
              " 54372    -0.134175   0.762872   -0.873816 -0.180489 -0.819841  1.297192   \n",
              " 40861     0.599324  -1.631301   -1.523631 -1.653751 -0.563032  0.090117   \n",
              " 33767     1.332815   0.762872    0.950898 -1.653751  0.133422  1.076596   \n",
              " 77969    -1.601212  -1.126001    0.950898  0.937914  1.242579  0.090117   \n",
              " \n",
              "            year  \n",
              " 72332  0.944922  \n",
              " 45787 -0.342353  \n",
              " 37127  1.398165  \n",
              " 45672 -0.342353  \n",
              " 9451  -0.342353  \n",
              " ...         ...  \n",
              " 54998  0.502988  \n",
              " 54372  0.073445  \n",
              " 40861  0.502988  \n",
              " 33767  0.502988  \n",
              " 77969 -2.117744  \n",
              " \n",
              " [15631 rows x 11 columns],\n",
              " 76545    4\n",
              " 74631    3\n",
              " 32156    5\n",
              " 35066    5\n",
              " 53409    3\n",
              "         ..\n",
              " 6265     2\n",
              " 54886    5\n",
              " 76820    4\n",
              " 860      2\n",
              " 15795    4\n",
              " Name: overall, Length: 62521, dtype: int64,\n",
              " 72332    3\n",
              " 45787    3\n",
              " 37127    4\n",
              " 45672    5\n",
              " 9451     3\n",
              "         ..\n",
              " 54998    4\n",
              " 54372    4\n",
              " 40861    4\n",
              " 33767    5\n",
              " 77969    4\n",
              " Name: overall, Length: 15631, dtype: int64)"
            ]
          },
          "execution_count": 114,
          "metadata": {},
          "output_type": "execute_result"
        }
      ],
      "source": [
        "trainX, testX, trainY, testY = train_test_split(df.drop(columns = 'overall'), df['overall'], train_size = 0.8, test_size = 0.2, random_state=42)\n",
        "trainX, testX, trainY, testY"
      ]
    },
    {
      "cell_type": "code",
      "execution_count": null,
      "metadata": {
        "colab": {
          "base_uri": "https://localhost:8080/"
        },
        "id": "Bx3QPd1O-JJn",
        "outputId": "3234244e-507e-4ab2-8018-8ede8d502de8"
      },
      "outputs": [
        {
          "data": {
            "text/plain": [
              "array([3, 4, 5, ..., 4, 5, 2])"
            ]
          },
          "execution_count": 115,
          "metadata": {},
          "output_type": "execute_result"
        }
      ],
      "source": [
        "model = LogisticRegression()\n",
        "trained_model = model.fit(trainX, trainY)\n",
        "prediction = trained_model.predict(testX)\n",
        "prediction"
      ]
    },
    {
      "cell_type": "markdown",
      "metadata": {
        "id": "vWiBhlxaJhfU"
      },
      "source": [
        "# артефакты"
      ]
    },
    {
      "cell_type": "markdown",
      "metadata": {
        "id": "gG0FxOnj0cBL"
      },
      "source": [
        "Веса модели"
      ]
    },
    {
      "cell_type": "code",
      "execution_count": null,
      "metadata": {
        "colab": {
          "base_uri": "https://localhost:8080/"
        },
        "id": "4VZ73oKSyHYK",
        "outputId": "2e9cf713-d3bc-4645-f024-39b269b6ac2f"
      },
      "outputs": [
        {
          "name": "stdout",
          "output_type": "stream",
          "text": [
            "   work_life_balance  culture_values  career_opp  comp_benefits  senior_mgmt  \\\n",
            "1          -0.628013       -1.526573   -1.427051      -0.670520    -1.360973   \n",
            "2          -0.213333       -0.638725   -0.638355      -0.385603    -0.707577   \n",
            "3          -0.012333       -0.029661    0.016023      -0.133158     0.048923   \n",
            "4           0.264869        0.676158    0.639431       0.315028     0.670963   \n",
            "5           0.588810        1.518801    1.409951       0.874252     1.348665   \n",
            "\n",
            "   recommend  ceo_approv   outlook       day     month      year  intercept  \n",
            "1  -0.567493    0.098632 -0.183993  0.028719 -0.010855 -0.100218  -4.987095  \n",
            "2  -0.583687    0.086237  0.038533 -0.005491 -0.041904 -0.148839  -1.035775  \n",
            "3   0.081914    0.001457 -0.023524 -0.000636 -0.008705 -0.013586   2.135042  \n",
            "4   0.577324   -0.103090 -0.006202 -0.009487  0.009021  0.081723   2.831894  \n",
            "5   0.491942   -0.083236  0.175187 -0.013106  0.052443  0.180919   1.055933  \n"
          ]
        }
      ],
      "source": [
        "weights_df = pd.DataFrame(model.coef_, columns=[df.columns[i] for i in range(testX.shape[1])])\n",
        "weights_df['intercept'] = model.intercept_\n",
        "weights_df.index = [i for i in range(1, model.coef_.shape[0]+1)]\n",
        "\n",
        "print(weights_df)"
      ]
    },
    {
      "cell_type": "markdown",
      "metadata": {
        "id": "xT6Bt8gl0e0M"
      },
      "source": [
        "метрики"
      ]
    },
    {
      "cell_type": "code",
      "execution_count": null,
      "metadata": {
        "colab": {
          "base_uri": "https://localhost:8080/"
        },
        "id": "bgz4hrJWDxZM",
        "outputId": "b037ad28-7ecd-4a54-c0d2-5c4efbfeadd7"
      },
      "outputs": [
        {
          "name": "stdout",
          "output_type": "stream",
          "text": [
            "Accuracy: 0.6454481479112021 \n",
            " Precision: 0.6398670787377364 \n",
            " Recall: 0.6454481479112021\n"
          ]
        }
      ],
      "source": [
        "Accuracy = accuracy_score(testY, prediction)\n",
        "Precision = precision_score(testY, prediction, average = 'weighted')\n",
        "Recall = recall_score(testY, prediction, average = 'weighted')\n",
        "print('Accuracy:', Accuracy, '\\n', 'Precision:', Precision, '\\n', 'Recall:', Recall)"
      ]
    },
    {
      "cell_type": "markdown",
      "metadata": {
        "id": "ns4wVGqVKG31"
      },
      "source": [
        "метрики не наилучшие, нужно улучшать"
      ]
    },
    {
      "cell_type": "code",
      "execution_count": null,
      "metadata": {
        "colab": {
          "base_uri": "https://localhost:8080/",
          "height": 564
        },
        "id": "ln-ktCYfGkMx",
        "outputId": "7687a1c1-a079-468d-ddc1-f3193e8f9a6b"
      },
      "outputs": [
        {
          "data": {
            "image/png": "[encoded data removed]",
            "text/plain": [
              "<Figure size 1000x600 with 1 Axes>"
            ]
          },
          "metadata": {},
          "output_type": "display_data"
        }
      ],
      "source": [
        "import matplotlib.pyplot as plt\n",
        "ind = np.arange(len(testY))[:100]\n",
        "\n",
        "plt.figure(figsize=(10, 6))\n",
        "\n",
        "# Рисуем реальные значения\n",
        "plt.plot(ind, testY[:100], label='Реальные значения', marker='o')\n",
        "\n",
        "# Рисуем предсказанные значения\n",
        "plt.plot(ind, prediction[:100], label='Предсказанные значения', marker='x')\n",
        "\n",
        "# Добавляем заголовок и метки осей\n",
        "plt.title('Сравнение реальных и предсказанных значений')\n",
        "plt.xlabel('Номер наблюдения')\n",
        "plt.ylabel('Значение')\n",
        "\n",
        "# Добавляем легенду\n",
        "plt.legend()\n",
        "\n",
        "# Показываем график\n",
        "plt.grid()\n",
        "plt.show()"
      ]
    },
    {
      "cell_type": "markdown",
      "metadata": {
        "id": "2ekbVFvLKdoF"
      },
      "source": [
        "# улучшение модели"
      ]
    },
    {
      "cell_type": "markdown",
      "metadata": {
        "id": "E6X_4dUe0z5c"
      },
      "source": [
        "проверим переобучение"
      ]
    },
    {
      "cell_type": "code",
      "execution_count": null,
      "metadata": {
        "colab": {
          "base_uri": "https://localhost:8080/"
        },
        "id": "mpxmM5GNIWWw",
        "outputId": "6845d2ca-319a-4caa-ebe6-49834f9b7762"
      },
      "outputs": [
        {
          "name": "stdout",
          "output_type": "stream",
          "text": [
            "Accuracy: 0.6545000879704419 \n",
            " Precision: 0.6500168995087225 \n",
            " Recall: 0.6545000879704419\n"
          ]
        }
      ],
      "source": [
        "prediction1 = model.predict(trainX)\n",
        "trainAccuracy = accuracy_score(trainY, prediction1)\n",
        "trainPrecision = precision_score(trainY, prediction1, average = 'weighted')\n",
        "trainRecall = recall_score(trainY, prediction1, average = 'weighted')\n",
        "print('Accuracy:', trainAccuracy, '\\n', 'Precision:', trainPrecision, '\\n', 'Recall:', trainRecall)"
      ]
    },
    {
      "cell_type": "markdown",
      "metadata": {
        "id": "E1wfZ9vCOUU1"
      },
      "source": [
        "показатели примерно те же, а значит переобучения нет"
      ]
    },
    {
      "cell_type": "markdown",
      "metadata": {
        "id": "W3BoGG_x02LY"
      },
      "source": [
        "пробуем полиномы"
      ]
    },
    {
      "cell_type": "code",
      "execution_count": null,
      "metadata": {
        "id": "60FtYaoWOCLo"
      },
      "outputs": [],
      "source": [
        "from sklearn.preprocessing import PolynomialFeatures\n",
        "degree = 2\n",
        "poly_features2 = PolynomialFeatures(degree)\n",
        "trainX_poly2 = poly_features2.fit_transform(trainX)\n",
        "testX_poly2 = poly_features2.transform(testX)"
      ]
    },
    {
      "cell_type": "code",
      "execution_count": null,
      "metadata": {
        "colab": {
          "base_uri": "https://localhost:8080/"
        },
        "id": "ZFDEtY4sRIAM",
        "outputId": "4079afc1-e30b-40bf-ad4b-779aff509ac7"
      },
      "outputs": [
        {
          "name": "stderr",
          "output_type": "stream",
          "text": [
            "/usr/local/lib/python3.10/dist-packages/sklearn/linear_model/_logistic.py:469: ConvergenceWarning: lbfgs failed to converge (status=1):\n",
            "STOP: TOTAL NO. of ITERATIONS REACHED LIMIT.\n",
            "\n",
            "Increase the number of iterations (max_iter) or scale the data as shown in:\n",
            "    https://scikit-learn.org/stable/modules/preprocessing.html\n",
            "Please also refer to the documentation for alternative solver options:\n",
            "    https://scikit-learn.org/stable/modules/linear_model.html#logistic-regression\n",
            "  n_iter_i = _check_optimize_result(\n"
          ]
        }
      ],
      "source": [
        "model_poly2 = LogisticRegression().fit(trainX_poly2, trainY)"
      ]
    },
    {
      "cell_type": "code",
      "execution_count": null,
      "metadata": {
        "colab": {
          "base_uri": "https://localhost:8080/"
        },
        "id": "WcWshMMcRZAM",
        "outputId": "f1e1fd99-700c-47b4-8fd4-61dde1c09fc3"
      },
      "outputs": [
        {
          "data": {
            "text/plain": [
              "array([3, 4, 5, ..., 4, 5, 2])"
            ]
          },
          "execution_count": 122,
          "metadata": {},
          "output_type": "execute_result"
        }
      ],
      "source": [
        "prediction2 = model_poly2.predict(testX_poly2)\n",
        "prediction2"
      ]
    },
    {
      "cell_type": "code",
      "execution_count": null,
      "metadata": {
        "colab": {
          "base_uri": "https://localhost:8080/"
        },
        "id": "7aXPZ1aeSPcZ",
        "outputId": "24be47b9-6917-4768-b517-f5139ca8bc7e"
      },
      "outputs": [
        {
          "name": "stdout",
          "output_type": "stream",
          "text": [
            "Accuracy: 0.6635531955729 \n",
            " Precision: 0.6655699237071024 \n",
            " Recall: 0.6635531955729\n"
          ]
        }
      ],
      "source": [
        "Accuracy2 = accuracy_score(testY, prediction2)\n",
        "Precision2 = precision_score(testY, prediction2, average = 'weighted')\n",
        "Recall2 = recall_score(testY, prediction2, average = 'weighted')\n",
        "print('Accuracy:', Accuracy2, '\\n', 'Precision:', Precision2, '\\n', 'Recall:', Recall2)"
      ]
    },
    {
      "cell_type": "markdown",
      "metadata": {
        "id": "z1tyhZ2oTZTy"
      },
      "source": [
        "стало чуть лучше, попробуем повысить степень"
      ]
    },
    {
      "cell_type": "code",
      "execution_count": null,
      "metadata": {
        "id": "dI0xY6gbUT5R"
      },
      "outputs": [],
      "source": [
        "degree = 3\n",
        "poly_features3 = PolynomialFeatures(degree)\n",
        "trainX_poly3 = poly_features3.fit_transform(trainX)\n",
        "testX_poly3 = poly_features3.transform(testX)"
      ]
    },
    {
      "cell_type": "code",
      "execution_count": null,
      "metadata": {
        "colab": {
          "base_uri": "https://localhost:8080/"
        },
        "id": "SjtT66n3UT5S",
        "outputId": "982684a1-292a-4cd5-d9dc-801efcbe9a0e"
      },
      "outputs": [
        {
          "name": "stderr",
          "output_type": "stream",
          "text": [
            "/usr/local/lib/python3.10/dist-packages/sklearn/linear_model/_logistic.py:469: ConvergenceWarning: lbfgs failed to converge (status=1):\n",
            "STOP: TOTAL NO. of ITERATIONS REACHED LIMIT.\n",
            "\n",
            "Increase the number of iterations (max_iter) or scale the data as shown in:\n",
            "    https://scikit-learn.org/stable/modules/preprocessing.html\n",
            "Please also refer to the documentation for alternative solver options:\n",
            "    https://scikit-learn.org/stable/modules/linear_model.html#logistic-regression\n",
            "  n_iter_i = _check_optimize_result(\n"
          ]
        }
      ],
      "source": [
        "model_poly3 = LogisticRegression().fit(trainX_poly3, trainY)"
      ]
    },
    {
      "cell_type": "code",
      "execution_count": null,
      "metadata": {
        "colab": {
          "base_uri": "https://localhost:8080/"
        },
        "id": "v3seJZcVUT5T",
        "outputId": "99a43084-6032-4d7f-b8f3-39bfd2bbcfc2"
      },
      "outputs": [
        {
          "data": {
            "text/plain": [
              "array([3, 4, 5, ..., 4, 5, 3])"
            ]
          },
          "execution_count": 126,
          "metadata": {},
          "output_type": "execute_result"
        }
      ],
      "source": [
        "prediction3 = model_poly3.predict(testX_poly3)\n",
        "prediction3"
      ]
    },
    {
      "cell_type": "code",
      "execution_count": null,
      "metadata": {
        "colab": {
          "base_uri": "https://localhost:8080/"
        },
        "id": "DkktNSApUT5T",
        "outputId": "1ddb9469-7d29-4618-9f58-ab53ec8bed8a"
      },
      "outputs": [
        {
          "name": "stdout",
          "output_type": "stream",
          "text": [
            "Accuracy: 0.6664320900774102 \n",
            " Precision: 0.6677327596472877 \n",
            " Recall: 0.6664320900774102\n"
          ]
        }
      ],
      "source": [
        "Accuracy3 = accuracy_score(testY, prediction3)\n",
        "Precision3 = precision_score(testY, prediction3, average = 'weighted')\n",
        "Recall3 = recall_score(testY, prediction3, average = 'weighted')\n",
        "print('Accuracy:', Accuracy3, '\\n', 'Precision:', Precision3, '\\n', 'Recall:', Recall3)"
      ]
    },
    {
      "cell_type": "markdown",
      "metadata": {
        "id": "9nBU6F0X07be"
      },
      "source": [
        "еще лучше, пробуем повышать"
      ]
    },
    {
      "cell_type": "code",
      "execution_count": null,
      "metadata": {
        "id": "N7a11tX9wmSP"
      },
      "outputs": [],
      "source": [
        "degree = 4\n",
        "poly_features4 = PolynomialFeatures(degree)\n",
        "trainX_poly4 = poly_features4.fit_transform(trainX)\n",
        "testX_poly4 = poly_features4.transform(testX)"
      ]
    },
    {
      "cell_type": "code",
      "execution_count": null,
      "metadata": {
        "colab": {
          "base_uri": "https://localhost:8080/"
        },
        "id": "5YN7vXSbwmSP",
        "outputId": "3210c713-da20-460b-cbf7-54ffa42ffe84"
      },
      "outputs": [
        {
          "name": "stderr",
          "output_type": "stream",
          "text": [
            "/usr/local/lib/python3.10/dist-packages/sklearn/linear_model/_logistic.py:469: ConvergenceWarning: lbfgs failed to converge (status=1):\n",
            "STOP: TOTAL NO. of ITERATIONS REACHED LIMIT.\n",
            "\n",
            "Increase the number of iterations (max_iter) or scale the data as shown in:\n",
            "    https://scikit-learn.org/stable/modules/preprocessing.html\n",
            "Please also refer to the documentation for alternative solver options:\n",
            "    https://scikit-learn.org/stable/modules/linear_model.html#logistic-regression\n",
            "  n_iter_i = _check_optimize_result(\n"
          ]
        }
      ],
      "source": [
        "model_poly4 = LogisticRegression().fit(trainX_poly4, trainY)"
      ]
    },
    {
      "cell_type": "code",
      "execution_count": null,
      "metadata": {
        "colab": {
          "base_uri": "https://localhost:8080/"
        },
        "id": "LouF67IiwmSQ",
        "outputId": "ae4ad4b1-3ae8-48bc-b6c6-676d6fcc4224"
      },
      "outputs": [
        {
          "data": {
            "text/plain": [
              "array([3, 4, 5, ..., 4, 5, 3])"
            ]
          },
          "execution_count": 130,
          "metadata": {},
          "output_type": "execute_result"
        }
      ],
      "source": [
        "prediction4 = model_poly4.predict(testX_poly4)\n",
        "prediction4"
      ]
    },
    {
      "cell_type": "code",
      "execution_count": null,
      "metadata": {
        "colab": {
          "base_uri": "https://localhost:8080/"
        },
        "id": "HbBv-3fdwmSQ",
        "outputId": "439b77fe-5dfd-40fc-c54e-f02f960fea40"
      },
      "outputs": [
        {
          "name": "stdout",
          "output_type": "stream",
          "text": [
            "Accuracy: 0.6613140554027254 \n",
            " Precision: 0.6625003795074527 \n",
            " Recall: 0.6613140554027254\n"
          ]
        }
      ],
      "source": [
        "Accuracy4 = accuracy_score(testY, prediction4)\n",
        "Precision4 = precision_score(testY, prediction4, average = 'weighted')\n",
        "Recall4 = recall_score(testY, prediction4, average = 'weighted')\n",
        "print('Accuracy:', Accuracy4, '\\n', 'Precision:', Precision4, '\\n', 'Recall:', Recall4)"
      ]
    },
    {
      "cell_type": "markdown",
      "metadata": {
        "id": "SachrtpxVDPd"
      },
      "source": [
        "стало чуть хуже, оставим 3 степень"
      ]
    },
    {
      "cell_type": "code",
      "execution_count": null,
      "metadata": {
        "colab": {
          "base_uri": "https://localhost:8080/"
        },
        "id": "mVA5M95UxQYT",
        "outputId": "78a8ee35-20ea-40d9-e16a-e9d9eba3be8f"
      },
      "outputs": [
        {
          "name": "stdout",
          "output_type": "stream",
          "text": [
            "Accuracy: 0.6664320900774102 \n",
            " Precision: 0.6677327596472877 \n",
            " Recall: 0.6664320900774102\n"
          ]
        }
      ],
      "source": [
        "Accuracy3 = accuracy_score(testY, prediction3)\n",
        "Precision3 = precision_score(testY, prediction3, average = 'weighted')\n",
        "Recall3 = recall_score(testY, prediction3, average = 'weighted')\n",
        "print('Accuracy:', Accuracy3, '\\n', 'Precision:', Precision3, '\\n', 'Recall:', Recall3)"
      ]
    },
    {
      "cell_type": "markdown",
      "metadata": {
        "id": "Z9hCgjnPVhTG"
      },
      "source": [
        "# SGDClassifier"
      ]
    },
    {
      "cell_type": "code",
      "execution_count": null,
      "metadata": {
        "id": "VV8CJvm0JtD7"
      },
      "outputs": [],
      "source": [
        "from sklearn.linear_model import SGDClassifier\n",
        "sgdc = SGDClassifier(max_iter=7000, alpha=0.001)\n",
        "sgdc.fit(trainX, trainY)\n",
        "sgdcPred = sgdc.predict(testX)"
      ]
    },
    {
      "cell_type": "code",
      "execution_count": null,
      "metadata": {
        "colab": {
          "base_uri": "https://localhost:8080/"
        },
        "id": "Guah6cIbPf59",
        "outputId": "a5ef4cf4-d3c8-48bb-8929-eb08436ec93c"
      },
      "outputs": [
        {
          "name": "stdout",
          "output_type": "stream",
          "text": [
            "Accuracy: 0.5326594587678332 \n",
            " Precision: 0.4877673612650112 \n",
            " Recall: 0.5326594587678332\n"
          ]
        }
      ],
      "source": [
        "sgdcAccuracy = accuracy_score(testY, sgdcPred)\n",
        "sgdcPrecision = precision_score(testY, sgdcPred, average = 'weighted')\n",
        "sgdcRecall = recall_score(testY, sgdcPred, average = 'weighted')\n",
        "print('Accuracy:', sgdcAccuracy, '\\n', 'Precision:', sgdcPrecision, '\\n', 'Recall:', sgdcRecall)"
      ]
    },
    {
      "cell_type": "markdown",
      "metadata": {
        "id": "lhstodmI1Ai4"
      },
      "source": [
        "показатели хуже чем в основной модели"
      ]
    },
    {
      "cell_type": "markdown",
      "metadata": {
        "id": "fxMDYBNj1D0O"
      },
      "source": [
        "попробуем подобрать показатели модели с помощью грид серча"
      ]
    },
    {
      "cell_type": "code",
      "execution_count": null,
      "metadata": {
        "colab": {
          "background_save": true
        },
        "id": "5oYSS1JnVDAW",
        "outputId": "bf607aac-8f55-45d9-f9e6-1566d012f88b"
      },
      "outputs": [
        {
          "name": "stdout",
          "output_type": "stream",
          "text": [
            "Лучшие параметры: {'alpha': 0.001, 'max_iter': 3000}\n",
            "Лучшая точность: -0.5496238523144805\n",
            "Accuracy: 0.5624720107478728 \n",
            " Precision: 0.5220688760890637 \n",
            " Recall: 0.5624720107478728\n"
          ]
        }
      ],
      "source": [
        "from sklearn.model_selection import GridSearchCV\n",
        "# Определите диапазон значений для max_iter и alpha\n",
        "param_grid = {\n",
        "    'max_iter': [1000, 3000, 5000, 7000, 10000],\n",
        "    'alpha': [0.001, 0.01, 0.1, 0.5, 1]\n",
        "}\n",
        "\n",
        "# Создайте экземпляр SGDClassifier\n",
        "sgdc = SGDClassifier()\n",
        "\n",
        "# Создайте экземпляр GridSearchCV\n",
        "grid_search = GridSearchCV(sgdc, param_grid, cv=5, scoring='accuracy')\n",
        "\n",
        "# Пробегите по параметрам и оцените качество модели\n",
        "grid_search.fit(trainX, trainY)\n",
        "\n",
        "# Выведите лучшие параметры и соответствующую им точность\n",
        "print(\"Лучшие параметры:\", grid_search.best_params_)\n",
        "print(\"Лучшая точность:\", -grid_search.best_score_)\n",
        "\n",
        "# Создайте модель с лучшими параметрами и оцените ее качество\n",
        "best_sgdc = grid_search.best_estimator_\n",
        "best_sgdcPred = best_sgdc.predict(testX)\n",
        "\n",
        "acc_best_sgdc = accuracy_score(testY, best_sgdcPred)\n",
        "prec_best_sgdc = precision_score(testY, best_sgdcPred, average = 'weighted')\n",
        "rec_best_sgdc = recall_score(testY, best_sgdcPred, average = 'weighted')\n",
        "\n",
        "print('Accuracy:', acc_best_sgdc, '\\n', 'Precision:', prec_best_sgdc, '\\n', 'Recall:', rec_best_sgdc)"
      ]
    },
    {
      "cell_type": "markdown",
      "metadata": {
        "id": "z1SMsSqU1JiZ"
      },
      "source": [
        "так же не очень результаты? (хоть и стало лучше)"
      ]
    },
    {
      "cell_type": "markdown",
      "metadata": {
        "id": "fC3dsb9dY4_I"
      },
      "source": [
        "# вывод\n"
      ]
    },
    {
      "cell_type": "markdown",
      "metadata": {
        "id": "wc0HyNptQDVP"
      },
      "source": [
        "наша модели лог регрессии не так уж и плоха, хотя метрики не впечетляют, полиномы помогают их увеличить, а вот sgdc не очень..."
      ]
    },
    {
      "cell_type": "markdown",
      "metadata": {
        "id": "3na21g3cY-iX"
      },
      "source": [
        "# синтетика"
      ]
    },
    {
      "cell_type": "markdown",
      "metadata": {
        "id": "KuWICZId2W1n"
      },
      "source": [
        "##создание датасета"
      ]
    },
    {
      "cell_type": "code",
      "execution_count": null,
      "metadata": {
        "colab": {
          "background_save": true
        },
        "id": "kr55_izI6Xhr",
        "outputId": "4562a920-cdfe-44a0-ccc4-86bf8f8eb7aa"
      },
      "outputs": [
        {
          "data": {
            "text/plain": [
              "array([1, 0, 1, 0, 1, 1, 0, 0, 1, 0, 0, 1, 0, 1, 0, 1, 1, 0, 1, 0, 0, 0,\n",
              "       1, 0, 0, 0, 0, 0, 0, 1, 1, 0, 0, 1, 0, 1, 1, 1, 1, 1, 1, 1, 1, 0,\n",
              "       0, 1, 0, 0, 1, 1, 0, 0, 0, 0, 1, 0, 1, 1, 1, 0, 1, 0, 0, 1, 1, 1,\n",
              "       1, 0, 0, 0, 1, 0, 0, 1, 1, 1, 1, 0, 0, 1, 0, 1, 0, 1, 1, 1, 0, 0,\n",
              "       0, 0, 1, 1, 1, 1, 1, 0, 1, 1, 0, 1, 0, 0, 1, 1, 0, 0, 1, 0, 0, 1,\n",
              "       1, 1, 0, 1, 1, 0, 1, 0, 1, 0, 1, 0, 0, 1, 1, 0, 1, 1, 0, 1, 1, 0,\n",
              "       1, 0, 0, 0, 1, 0, 0, 1, 0, 0, 0, 1, 0, 0, 1, 0, 1, 0, 1, 0, 1, 0,\n",
              "       1, 1, 1, 0, 0, 1, 0, 1, 1, 0, 1, 0, 0, 0, 0, 1, 1, 1, 1, 0, 0, 0,\n",
              "       0, 0, 1, 0, 0, 1, 0, 1, 1, 0, 0, 0, 1, 1, 0, 1, 1, 0, 1, 0, 1, 0,\n",
              "       1, 1])"
            ]
          },
          "execution_count": 136,
          "metadata": {},
          "output_type": "execute_result"
        }
      ],
      "source": [
        "from sklearn.datasets import make_moons\n",
        "sinX, sinY = make_moons(n_samples = 1000, noise = 0.1, random_state= 42)\n",
        "x_train, x_test, y_train, y_test = train_test_split(sinX, sinY, test_size=0.2, random_state=42)\n",
        "y_test"
      ]
    },
    {
      "cell_type": "code",
      "execution_count": null,
      "metadata": {
        "colab": {
          "background_save": true
        },
        "id": "kxyYHBYFQUJf",
        "outputId": "820fd3a1-632b-46b9-8d01-f9c820750c4a"
      },
      "outputs": [
        {
          "data": {
            "image/png": "[encoded data removed]",
            "text/plain": [
              "<Figure size 800x600 with 1 Axes>"
            ]
          },
          "metadata": {},
          "output_type": "display_data"
        }
      ],
      "source": [
        "plt.figure(figsize=(8, 6))\n",
        "plt.scatter(sinX[sinY == 0][:, 0], sinX[sinY == 0][:, 1], color='blue', label='Класс 0')\n",
        "plt.scatter(sinX[sinY == 1][:, 0], sinX[sinY == 1][:, 1], color='red', label='Класс 1')\n",
        "plt.title('Визуализация набора данных Инь-Янь')\n",
        "plt.xlabel('Признак 1')\n",
        "plt.ylabel('Признак 2')\n",
        "plt.legend()\n",
        "plt.grid()\n",
        "plt.axis('equal')\n",
        "plt.show()"
      ]
    },
    {
      "cell_type": "markdown",
      "metadata": {
        "id": "jvIxr6bC2ck7"
      },
      "source": [
        "##модель и ее предсказание"
      ]
    },
    {
      "cell_type": "code",
      "execution_count": null,
      "metadata": {
        "colab": {
          "background_save": true
        },
        "id": "czzMNFM3k-gO",
        "outputId": "58f8796d-2f2f-40c9-dec9-3644d5db9043"
      },
      "outputs": [
        {
          "data": {
            "text/plain": [
              "array([1, 0, 1, 0, 1, 1, 1, 1, 1, 0, 0, 1, 1, 1, 0, 1, 1, 0, 1, 0, 0, 0,\n",
              "       1, 0, 0, 1, 0, 0, 0, 1, 0, 0, 0, 1, 0, 1, 1, 1, 1, 1, 1, 1, 1, 0,\n",
              "       0, 1, 0, 0, 1, 1, 0, 0, 0, 0, 0, 0, 0, 1, 1, 0, 1, 1, 0, 1, 1, 1,\n",
              "       1, 0, 0, 0, 1, 0, 0, 1, 0, 1, 1, 1, 0, 1, 0, 1, 0, 1, 1, 1, 0, 0,\n",
              "       0, 0, 1, 1, 1, 1, 1, 0, 1, 1, 0, 1, 0, 0, 1, 0, 0, 0, 1, 1, 0, 1,\n",
              "       1, 1, 0, 1, 1, 0, 1, 0, 1, 0, 1, 0, 0, 1, 1, 0, 1, 1, 0, 1, 1, 1,\n",
              "       1, 0, 0, 1, 1, 0, 0, 1, 0, 0, 0, 1, 0, 0, 0, 0, 0, 0, 1, 0, 1, 0,\n",
              "       1, 1, 1, 0, 0, 1, 0, 1, 1, 0, 1, 0, 1, 0, 0, 1, 1, 1, 0, 0, 1, 0,\n",
              "       0, 1, 1, 0, 0, 1, 0, 1, 1, 0, 0, 1, 1, 1, 0, 1, 0, 0, 1, 1, 1, 0,\n",
              "       1, 0])"
            ]
          },
          "execution_count": 138,
          "metadata": {},
          "output_type": "execute_result"
        }
      ],
      "source": [
        "sinModel = LogisticRegression().fit(x_train, y_train)\n",
        "sinPredict = sinModel.predict(x_test)\n",
        "sinPredict"
      ]
    },
    {
      "cell_type": "markdown",
      "metadata": {
        "id": "9EzYg57l2hBK"
      },
      "source": [
        "##метрики"
      ]
    },
    {
      "cell_type": "code",
      "execution_count": null,
      "metadata": {
        "colab": {
          "background_save": true
        },
        "id": "k_I1r2A2YTe8",
        "outputId": "bb6a8cf8-2899-440a-bd7f-cd02a0b84de0"
      },
      "outputs": [
        {
          "name": "stdout",
          "output_type": "stream",
          "text": [
            "Accuracy: 0.88 \n",
            " Precision: 0.8653846153846154 \n",
            " Recall: 0.9\n"
          ]
        }
      ],
      "source": [
        "sinAccuracy = accuracy_score(y_test, sinPredict)\n",
        "sinPrecision = precision_score(y_test, sinPredict)\n",
        "sinRecall = recall_score(y_test, sinPredict)\n",
        "print('Accuracy:', sinAccuracy, '\\n', 'Precision:', sinPrecision, '\\n', 'Recall:', sinRecall)"
      ]
    },
    {
      "cell_type": "markdown",
      "metadata": {
        "id": "K0iawRLMh35S"
      },
      "source": [
        "метрики на данном этапе уже очень хороши"
      ]
    },
    {
      "cell_type": "markdown",
      "metadata": {
        "id": "gFsVd0rh2lgy"
      },
      "source": [
        "##веса модели"
      ]
    },
    {
      "cell_type": "code",
      "execution_count": null,
      "metadata": {
        "colab": {
          "background_save": true
        },
        "id": "SuA0YjSKXVgz",
        "outputId": "c3bb477e-3ed2-4ee7-f22f-0e458ffff4e4"
      },
      "outputs": [
        {
          "data": {
            "text/plain": [
              "array([ 1.18137404, -4.84664169])"
            ]
          },
          "execution_count": 140,
          "metadata": {},
          "output_type": "execute_result"
        }
      ],
      "source": [
        "sinWeights = sinModel.coef_[0]\n",
        "sinWeights"
      ]
    },
    {
      "cell_type": "code",
      "execution_count": null,
      "metadata": {
        "colab": {
          "background_save": true
        },
        "id": "u6JqHOW8XjYs",
        "outputId": "ad91680a-855e-4694-9b17-d11d3f07b6e2"
      },
      "outputs": [
        {
          "data": {
            "image/png": "[encoded data removed]",
            "text/plain": [
              "<Figure size 640x480 with 1 Axes>"
            ]
          },
          "metadata": {},
          "output_type": "display_data"
        }
      ],
      "source": [
        "features = ['Feature 1', 'Feature 2']\n",
        "plt.bar(features, sinWeights, color=['blue', 'orange'])\n",
        "plt.xlabel('Признаки')\n",
        "plt.ylabel('Вес')\n",
        "plt.title('Вес каждого признака в модели логистической регрессии')\n",
        "plt.grid(axis='y')\n",
        "plt.show()"
      ]
    },
    {
      "cell_type": "markdown",
      "metadata": {
        "id": "IzJ9rpVI2peD"
      },
      "source": [
        "##полиномы"
      ]
    },
    {
      "cell_type": "code",
      "execution_count": null,
      "metadata": {
        "colab": {
          "background_save": true
        },
        "id": "tdQSAFo3tSFw",
        "outputId": "12057fb7-edc0-45d2-f89b-3c0483cb69a0"
      },
      "outputs": [
        {
          "data": {
            "text/plain": [
              "array([1, 0, 1, 0, 1, 1, 1, 1, 1, 0, 0, 1, 1, 1, 0, 1, 1, 0, 1, 0, 0, 0,\n",
              "       1, 0, 0, 1, 0, 0, 0, 1, 0, 0, 0, 1, 0, 1, 1, 1, 1, 1, 1, 1, 1, 0,\n",
              "       0, 1, 0, 0, 1, 1, 0, 0, 0, 0, 0, 0, 0, 1, 1, 0, 1, 1, 0, 1, 1, 1,\n",
              "       1, 0, 0, 0, 1, 0, 0, 1, 0, 1, 1, 1, 0, 1, 0, 1, 0, 1, 1, 1, 0, 0,\n",
              "       0, 0, 1, 1, 1, 1, 1, 0, 1, 1, 0, 1, 0, 0, 1, 0, 0, 0, 1, 1, 0, 1,\n",
              "       1, 1, 0, 1, 1, 0, 1, 0, 1, 0, 1, 0, 0, 1, 1, 0, 1, 1, 0, 1, 1, 1,\n",
              "       1, 0, 0, 1, 1, 0, 0, 1, 0, 0, 0, 1, 0, 0, 0, 0, 1, 0, 1, 0, 1, 0,\n",
              "       1, 1, 1, 0, 0, 1, 0, 0, 1, 0, 1, 0, 1, 0, 0, 1, 1, 1, 0, 0, 1, 0,\n",
              "       0, 1, 1, 0, 0, 1, 0, 1, 1, 0, 0, 1, 1, 1, 0, 1, 1, 0, 1, 1, 1, 0,\n",
              "       1, 0])"
            ]
          },
          "execution_count": 142,
          "metadata": {},
          "output_type": "execute_result"
        }
      ],
      "source": [
        "degree = 2\n",
        "sinPoly_features = PolynomialFeatures(degree = degree)\n",
        "x_train_poly = sinPoly_features.fit_transform(x_train)\n",
        "x_test_poly = sinPoly_features.transform(x_test)\n",
        "polyModel2 = LogisticRegression().fit(x_train_poly, y_train)\n",
        "polyPredict2 = polyModel2.predict(x_test_poly)\n",
        "polyPredict2"
      ]
    },
    {
      "cell_type": "code",
      "execution_count": null,
      "metadata": {
        "colab": {
          "background_save": true
        },
        "id": "IwAKKm6TYMB2",
        "outputId": "f377dceb-0466-4dad-986f-e6a1422fee31"
      },
      "outputs": [
        {
          "name": "stdout",
          "output_type": "stream",
          "text": [
            "Accuracy: 0.885 \n",
            " Precision: 0.8666666666666667 \n",
            " Recall: 0.91\n"
          ]
        }
      ],
      "source": [
        "polyAccuracy2 = accuracy_score(y_test, polyPredict2)\n",
        "polyPrecision2 = precision_score(y_test, polyPredict2)\n",
        "polyRecall2 = recall_score(y_test, polyPredict2)\n",
        "print('Accuracy:', polyAccuracy2, '\\n', 'Precision:', polyPrecision2, '\\n', 'Recall:', polyRecall2)"
      ]
    },
    {
      "cell_type": "markdown",
      "metadata": {
        "id": "xzwdKbBMiRYj"
      },
      "source": [
        "стало чуть чуть лучше, проверим что будет при уввеличении степени"
      ]
    },
    {
      "cell_type": "code",
      "execution_count": null,
      "metadata": {
        "colab": {
          "background_save": true
        },
        "id": "pJQvQ_N4v5pT",
        "outputId": "91b2c791-dc3c-43db-e111-e231189c4e0a"
      },
      "outputs": [
        {
          "data": {
            "text/plain": [
              "array([1, 0, 1, 0, 1, 1, 0, 0, 1, 0, 0, 1, 0, 1, 0, 1, 1, 0, 1, 0, 0, 0,\n",
              "       1, 0, 0, 0, 0, 0, 0, 1, 1, 0, 0, 1, 0, 1, 1, 1, 1, 1, 1, 1, 1, 0,\n",
              "       0, 1, 0, 0, 1, 1, 0, 0, 0, 0, 1, 0, 1, 1, 1, 0, 1, 0, 0, 1, 1, 1,\n",
              "       1, 0, 0, 0, 1, 0, 0, 1, 0, 1, 1, 0, 0, 1, 0, 1, 0, 1, 1, 1, 0, 0,\n",
              "       0, 0, 1, 1, 1, 1, 1, 0, 1, 1, 0, 1, 0, 0, 1, 1, 0, 0, 1, 0, 0, 1,\n",
              "       1, 1, 0, 1, 1, 0, 1, 0, 1, 0, 1, 0, 0, 1, 1, 0, 1, 1, 0, 1, 1, 0,\n",
              "       1, 0, 0, 0, 1, 0, 0, 1, 0, 0, 0, 1, 0, 0, 1, 0, 1, 0, 1, 0, 1, 0,\n",
              "       1, 1, 1, 0, 0, 1, 0, 1, 1, 0, 1, 0, 0, 0, 0, 1, 1, 1, 1, 0, 0, 0,\n",
              "       0, 1, 1, 0, 0, 1, 0, 1, 1, 0, 0, 0, 1, 1, 0, 1, 1, 0, 1, 0, 1, 0,\n",
              "       1, 1])"
            ]
          },
          "execution_count": 144,
          "metadata": {},
          "output_type": "execute_result"
        }
      ],
      "source": [
        "degree = 3\n",
        "sinPoly_features = PolynomialFeatures(degree = degree)\n",
        "x_train_poly = sinPoly_features.fit_transform(x_train)\n",
        "x_test_poly = sinPoly_features.transform(x_test)\n",
        "polyModel3 = LogisticRegression().fit(x_train_poly, y_train)\n",
        "polyPredict3 = polyModel3.predict(x_test_poly)\n",
        "polyPredict3"
      ]
    },
    {
      "cell_type": "code",
      "execution_count": null,
      "metadata": {
        "colab": {
          "background_save": true
        },
        "id": "ReqdKj6Tv5pT",
        "outputId": "a5cea8fa-5d80-46aa-a87d-3ea363dc092f"
      },
      "outputs": [
        {
          "name": "stdout",
          "output_type": "stream",
          "text": [
            "Accuracy: 0.99 \n",
            " Precision: 0.99 \n",
            " Recall: 0.99\n"
          ]
        }
      ],
      "source": [
        "polyAccuracy3 = accuracy_score(y_test, polyPredict3)\n",
        "polyPrecision3 = precision_score(y_test, polyPredict3)\n",
        "polyRecall3 = recall_score(y_test, polyPredict3)\n",
        "print('Accuracy:', polyAccuracy3, '\\n', 'Precision:', polyPrecision3, '\\n', 'Recall:', polyRecall3)"
      ]
    },
    {
      "cell_type": "markdown",
      "metadata": {
        "id": "gnOSqni4jBg1"
      },
      "source": [
        "очень хорошо но проверим можно ли лучше"
      ]
    },
    {
      "cell_type": "code",
      "execution_count": null,
      "metadata": {
        "colab": {
          "background_save": true
        },
        "id": "871KcaS4izIt",
        "outputId": "51730875-63d4-44f1-df7f-50ee46f32b55"
      },
      "outputs": [
        {
          "data": {
            "text/plain": [
              "array([1, 0, 1, 0, 1, 1, 0, 0, 1, 0, 0, 1, 0, 1, 0, 1, 1, 0, 1, 0, 0, 0,\n",
              "       1, 0, 0, 0, 0, 0, 0, 1, 1, 0, 0, 1, 0, 1, 1, 1, 1, 1, 1, 1, 1, 0,\n",
              "       0, 1, 0, 0, 1, 1, 0, 0, 0, 0, 1, 0, 1, 1, 1, 0, 1, 0, 0, 1, 1, 1,\n",
              "       1, 0, 0, 0, 1, 0, 0, 1, 1, 1, 1, 0, 0, 1, 0, 1, 0, 1, 1, 1, 0, 0,\n",
              "       0, 0, 1, 1, 1, 1, 1, 0, 1, 1, 0, 1, 0, 0, 1, 1, 0, 0, 1, 0, 0, 1,\n",
              "       1, 1, 0, 1, 1, 0, 1, 0, 1, 0, 1, 0, 0, 1, 1, 0, 1, 1, 0, 1, 1, 0,\n",
              "       1, 0, 0, 0, 1, 0, 0, 1, 0, 0, 0, 1, 0, 0, 1, 0, 1, 0, 1, 0, 1, 0,\n",
              "       1, 1, 1, 0, 0, 1, 0, 1, 1, 0, 1, 0, 0, 0, 0, 1, 1, 1, 1, 0, 0, 0,\n",
              "       0, 0, 1, 0, 0, 1, 0, 1, 1, 0, 0, 0, 1, 1, 0, 1, 1, 0, 1, 0, 1, 0,\n",
              "       1, 1])"
            ]
          },
          "execution_count": 146,
          "metadata": {},
          "output_type": "execute_result"
        }
      ],
      "source": [
        "degree = 4\n",
        "sinPoly_features = PolynomialFeatures(degree = degree)\n",
        "x_train_poly = sinPoly_features.fit_transform(x_train)\n",
        "x_test_poly = sinPoly_features.transform(x_test)\n",
        "polyModel4 = LogisticRegression().fit(x_train_poly, y_train)\n",
        "polyPredict4 = polyModel4.predict(x_test_poly)\n",
        "polyPredict4"
      ]
    },
    {
      "cell_type": "code",
      "execution_count": null,
      "metadata": {
        "colab": {
          "background_save": true
        },
        "id": "qy4C_2GaizI1",
        "outputId": "3eebf8c3-a75f-472e-f5b3-496fdbb0362d"
      },
      "outputs": [
        {
          "name": "stdout",
          "output_type": "stream",
          "text": [
            "Accuracy: 1.0 \n",
            " Precision: 1.0 \n",
            " Recall: 1.0\n"
          ]
        }
      ],
      "source": [
        "polyAccuracy4 = accuracy_score(y_test, polyPredict4)\n",
        "polyPrecision4 = precision_score(y_test, polyPredict4)\n",
        "polyRecall4 = recall_score(y_test, polyPredict4)\n",
        "print('Accuracy:', polyAccuracy4, '\\n', 'Precision:', polyPrecision4, '\\n', 'Recall:', polyRecall4)"
      ]
    },
    {
      "cell_type": "markdown",
      "metadata": {
        "id": "GvOdVodtisKG"
      },
      "source": [
        "результат идеален"
      ]
    },
    {
      "cell_type": "markdown",
      "metadata": {
        "id": "1Y4TptFC25ma"
      },
      "source": [
        "##веса с полиномами"
      ]
    },
    {
      "cell_type": "code",
      "execution_count": null,
      "metadata": {
        "colab": {
          "background_save": true
        },
        "id": "PoFGIjrQw3_t",
        "outputId": "2b876b6f-456c-4f24-a103-5ebbf043cc8c"
      },
      "outputs": [
        {
          "data": {
            "text/plain": [
              "array([ 0.00855006, -0.49310259, -3.4265649 , -6.25559543, -1.40479007,\n",
              "       -0.82714391,  1.80182492, -2.40836438,  1.04530741, -2.0713205 ,\n",
              "        1.46761643, -0.16880825,  0.27419172, -0.02645375, -1.44017133])"
            ]
          },
          "execution_count": 148,
          "metadata": {},
          "output_type": "execute_result"
        }
      ],
      "source": [
        "sinPolyWeights = polyModel4.coef_[0]\n",
        "sinPolyWeights"
      ]
    },
    {
      "cell_type": "code",
      "execution_count": null,
      "metadata": {
        "colab": {
          "background_save": true
        },
        "id": "bhcDIraiofgW",
        "outputId": "16d0570c-9896-433e-f430-63bd83ba5a8b"
      },
      "outputs": [
        {
          "data": {
            "image/png": "[encoded data removed]",
            "text/plain": [
              "<Figure size 640x480 with 1 Axes>"
            ]
          },
          "metadata": {},
          "output_type": "display_data"
        }
      ],
      "source": [
        "features = ['Feature 1', 'Feature 2', 'Feature 3', 'Feature 4', 'Feature 5', 'Feature 6', 'Feature 7', 'Feature 8', 'Feature 9', 'Feature 10', 'Feature 11', 'Feature 12', 'Feature 13', 'Feature 14', 'Feature 15']\n",
        "plt.bar(features, sinPolyWeights, color=['orange' if weight < 0 else 'blue' for weight in sinPolyWeights])\n",
        "plt.xlabel('Признаки')\n",
        "plt.ylabel('Вес')\n",
        "plt.title('Вес каждого признака в модели логистической регрессии')\n",
        "plt.grid(axis='y')\n",
        "plt.xticks(rotation=45)\n",
        "plt.show()"
      ]
    },
    {
      "cell_type": "markdown",
      "metadata": {
        "id": "RUT5zhfE3CLL"
      },
      "source": [
        "##вывод"
      ]
    },
    {
      "cell_type": "markdown",
      "metadata": {
        "id": "cH0MSslc3FKk"
      },
      "source": [
        "на синтетических данных инь янь модель себя показала очень хорошо, а после добавления полинома и вовсе выдала стопроцентный результат."
      ]
    }
  ],
  "metadata": {
    "colab": {
      "provenance": [],
      "authorship_tag": "ABX9TyMFJR+u5ILgxkeOpmfQ20Ke",
      "include_colab_link": true
    },
    "kernelspec": {
      "display_name": "Python 3",
      "name": "python3"
    },
    "language_info": {
      "name": "python"
    }
  },
  "nbformat": 4,
  "nbformat_minor": 0
}